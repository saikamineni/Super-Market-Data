{
 "metadata": {
  "name": "",
  "signature": "sha256:a1d558eb3c94c4ad83722fd18b6f13d4b363de195ad5db4b6cebfb32b4c1e270"
 },
 "nbformat": 3,
 "nbformat_minor": 0,
 "worksheets": [
  {
   "cells": [
    {
     "cell_type": "code",
     "collapsed": false,
     "input": [
      "#import\n",
      "\n",
      "from pandas import DataFrame, read_csv\n",
      "import pandas as pd\n",
      "\n",
      "\n",
      "#read data\n",
      "\n",
      "Location = 'C:\\Users\\saisree849\\Documents\\GitHub\\Super-Market-Data\\extracted_data_files\\jan14.csv'\n",
      "df = pd.read_csv(Location)"
     ],
     "language": "python",
     "metadata": {},
     "outputs": [
      {
       "output_type": "stream",
       "stream": "stderr",
       "text": [
        "C:\\Users\\saisree849\\AppData\\Local\\Enthought\\Canopy\\User\\lib\\site-packages\\pytz\\__init__.py:29: UserWarning: Module IPython was already imported from C:\\Users\\saisree849\\AppData\\Local\\Enthought\\Canopy\\App\\appdata\\canopy-1.5.1.2730.win-x86_64\\lib\\site-packages\\IPython\\__init__.pyc, but c:\\users\\saisree849\\appdata\\local\\enthought\\canopy\\user\\lib\\site-packages\\ipython-2.1.0-py2.7.egg is being added to sys.path\n",
        "  from pkg_resources import resource_stream\n"
       ]
      }
     ],
     "prompt_number": 1
    },
    {
     "cell_type": "code",
     "collapsed": false,
     "input": [
      "new_file = \"C:\\Users\\saisree849\\Documents\\GitHub\\Super-Market-Data\\Indexed_files\\indjan.csv\"\n",
      "df.to_csv(new_file,sep = \",\")"
     ],
     "language": "python",
     "metadata": {},
     "outputs": [],
     "prompt_number": 2
    },
    {
     "cell_type": "code",
     "collapsed": false,
     "input": [
      "Location = 'C:\\Users\\saisree849\\Documents\\GitHub\\Super-Market-Data\\extracted_data_files\\\\feb14.csv'\n",
      "df = pd.read_csv(Location)\n",
      "\n",
      "new_file = \"C:\\Users\\saisree849\\Documents\\GitHub\\Super-Market-Data\\Indexed_files\\indfeb.csv\"\n",
      "df.to_csv(new_file,sep = \",\")"
     ],
     "language": "python",
     "metadata": {},
     "outputs": [],
     "prompt_number": 3
    },
    {
     "cell_type": "code",
     "collapsed": false,
     "input": [
      "Location = 'C:\\Users\\saisree849\\Documents\\GitHub\\Super-Market-Data\\extracted_data_files\\mar14.csv'\n",
      "df = pd.read_csv(Location)\n",
      "\n",
      "new_file = \"C:\\Users\\saisree849\\Documents\\GitHub\\Super-Market-Data\\Indexed_files\\indmar.csv\"\n",
      "df.to_csv(new_file,sep = \",\")"
     ],
     "language": "python",
     "metadata": {},
     "outputs": [],
     "prompt_number": 4
    },
    {
     "cell_type": "code",
     "collapsed": false,
     "input": [
      "Location = 'C:\\Users\\saisree849\\Documents\\GitHub\\Super-Market-Data\\extracted_data_files\\\\apr14.csv'\n",
      "df = pd.read_csv(Location)\n",
      "\n",
      "new_file = \"C:\\Users\\saisree849\\Documents\\GitHub\\Super-Market-Data\\Indexed_files\\indapr.csv\"\n",
      "df.to_csv(new_file,sep = \",\")\n"
     ],
     "language": "python",
     "metadata": {},
     "outputs": [],
     "prompt_number": 5
    },
    {
     "cell_type": "code",
     "collapsed": false,
     "input": [
      "Location = 'C:\\Users\\saisree849\\Documents\\GitHub\\Super-Market-Data\\extracted_data_files\\may14.csv'\n",
      "df = pd.read_csv(Location)\n",
      "\n",
      "new_file = \"C:\\Users\\saisree849\\Documents\\GitHub\\Super-Market-Data\\Indexed_files\\indmay.csv\"\n",
      "df.to_csv(new_file,sep = \",\")"
     ],
     "language": "python",
     "metadata": {},
     "outputs": [],
     "prompt_number": 6
    },
    {
     "cell_type": "code",
     "collapsed": false,
     "input": [],
     "language": "python",
     "metadata": {},
     "outputs": []
    }
   ],
   "metadata": {}
  }
 ]
}