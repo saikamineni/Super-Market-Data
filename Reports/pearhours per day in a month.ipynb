{
 "metadata": {
  "name": "",
  "signature": "sha256:26c9feaad2201df4b7399d5eef32e63cbceba7a07885794dac8c9dae17941f42"
 },
 "nbformat": 3,
 "nbformat_minor": 0,
 "worksheets": [
  {
   "cells": [
    {
     "cell_type": "code",
     "collapsed": false,
     "input": [
      "#import\n",
      "\n",
      "from pandas import DataFrame, read_csv\n",
      "import matplotlib.pyplot as plt\n",
      "import pandas as pd\n",
      "import numpy as np\n",
      "import sys\n",
      "import re\n",
      "\n",
      "\n",
      "#read data\n",
      "\n",
      "Location = 'C:\\Users\\saisree849\\Documents\\GitHub\\Super-Market-Data\\extracted_data_files\\jan14.csv'\n",
      "df = pd.read_csv(Location)"
     ],
     "language": "python",
     "metadata": {},
     "outputs": [],
     "prompt_number": 24
    },
    {
     "cell_type": "code",
     "collapsed": false,
     "input": [
      "# getting hours and days\n",
      "for num in range(0,max(df.index)+1):\n",
      "    matchobj = re.match(r'(.*):(.*):(.*).*',df.loc[num,'Time'])\n",
      "    matchobj2 = re.match(r'(.*)/(.*)/(.*)',df.loc[num,'Date'])\n",
      "    df.loc[num,'Time'] = int(matchobj.group(1))\n",
      "    df.loc[num,'Date'] = int(matchobj2.group(1))"
     ],
     "language": "python",
     "metadata": {},
     "outputs": [],
     "prompt_number": 25
    },
    {
     "cell_type": "code",
     "collapsed": false,
     "input": [
      "# to drop unnecesary columns\n",
      "\n",
      "df = df.drop('Rate' , 1)\n",
      "df = df.drop('Quantity', 1)\n",
      "df = df.drop('Description', 1)\n",
      "df = df.drop('Amount', 1)\n",
      "df = df.drop_duplicates()"
     ],
     "language": "python",
     "metadata": {},
     "outputs": [],
     "prompt_number": 26
    },
    {
     "cell_type": "code",
     "collapsed": false,
     "input": [
      "#creating lists\n",
      "\n",
      "dates = df['Date'].unique()\n",
      "times = []\n",
      "\n"
     ],
     "language": "python",
     "metadata": {},
     "outputs": [],
     "prompt_number": 27
    },
    {
     "cell_type": "code",
     "collapsed": false,
     "input": [
      "for t in dates:\n",
      "    df1 = df[(df['Date'] == t)]\n",
      "    df1 = df1.drop('Date', 1)\n",
      "    products = df1.groupby('Time')\n",
      "    total = products.count()\n",
      "    dt = str(total.idxmax())\n",
      "    matchobj = re.match(r'^BillNo    (.*)\\n(.*)',dt)\n",
      "    times.append(int(matchobj.group(1)))"
     ],
     "language": "python",
     "metadata": {},
     "outputs": [],
     "prompt_number": 28
    },
    {
     "cell_type": "code",
     "collapsed": false,
     "input": [
      "dataset = zip(dates,times)\n",
      "dataset = DataFrame(dataset, columns = ['Date', 'Hour'])"
     ],
     "language": "python",
     "metadata": {},
     "outputs": [],
     "prompt_number": 29
    },
    {
     "cell_type": "code",
     "collapsed": false,
     "input": [
      "dataset.plot(kind = 'bar', x='Date', y='Hour', figsize = (15,7), title = 'January - PeakHours')\n",
      "show()"
     ],
     "language": "python",
     "metadata": {},
     "outputs": [
      {
       "metadata": {},
       "output_type": "display_data",
       "png": "[encoded data removed]",
       "text": [
        "<matplotlib.figure.Figure at 0x3afec50>"
       ]
      }
     ],
     "prompt_number": 30
    },
    {
     "cell_type": "code",
     "collapsed": false,
     "input": [],
     "language": "python",
     "metadata": {},
     "outputs": []
    }
   ],
   "metadata": {}
  }
 ]
}