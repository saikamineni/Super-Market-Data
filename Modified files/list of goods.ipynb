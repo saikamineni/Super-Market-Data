{
 "metadata": {
  "name": "",
  "signature": "sha256:7eff60a8094738579c5ba50c23001b141615a6db72b848b0ce5fca9fcbd02122"
 },
 "nbformat": 3,
 "nbformat_minor": 0,
 "worksheets": [
  {
   "cells": [
    {
     "cell_type": "code",
     "collapsed": false,
     "input": [
      "from pandas import DataFrame, read_csv\n",
      "import pandas as pd\n",
      "import numpy as np\n",
      "\n",
      "\n",
      "Location = 'C:\\Users\\saisree849\\Documents\\GitHub\\Super-Market-Data\\extracted_data_files\\jan14.csv'\n",
      "df = pd.read_csv(Location)\n",
      "lis = []"
     ],
     "language": "python",
     "metadata": {},
     "outputs": [
      {
       "output_type": "stream",
       "stream": "stderr",
       "text": [
        "C:\\Users\\saisree849\\AppData\\Local\\Enthought\\Canopy\\User\\lib\\site-packages\\pytz\\__init__.py:29: UserWarning: Module IPython was already imported from C:\\Users\\saisree849\\AppData\\Local\\Enthought\\Canopy\\App\\appdata\\canopy-1.5.1.2730.win-x86_64\\lib\\site-packages\\IPython\\__init__.pyc, but c:\\users\\saisree849\\appdata\\local\\enthought\\canopy\\user\\lib\\site-packages\\ipython-2.1.0-py2.7.egg is being added to sys.path\n",
        "  from pkg_resources import resource_stream\n"
       ]
      }
     ],
     "prompt_number": 1
    },
    {
     "cell_type": "code",
     "collapsed": false,
     "input": [
      "for record in df['Description']:\n",
      "    lis.append(record)"
     ],
     "language": "python",
     "metadata": {},
     "outputs": [],
     "prompt_number": 2
    },
    {
     "cell_type": "code",
     "collapsed": false,
     "input": [
      "\n",
      "Location = 'C:\\Users\\saisree849\\Documents\\GitHub\\Super-Market-Data\\extracted_data_files\\\\feb14.csv'\n",
      "df = pd.read_csv(Location)\n",
      "\n",
      "for record in df['Description']:\n",
      "    lis.append(record)"
     ],
     "language": "python",
     "metadata": {},
     "outputs": [],
     "prompt_number": 3
    },
    {
     "cell_type": "code",
     "collapsed": false,
     "input": [
      "\n",
      "Location = 'C:\\Users\\saisree849\\Documents\\GitHub\\Super-Market-Data\\extracted_data_files\\mar14.csv'\n",
      "df = pd.read_csv(Location)\n",
      "\n",
      "for record in df['Description']:\n",
      "    lis.append(record)"
     ],
     "language": "python",
     "metadata": {},
     "outputs": [],
     "prompt_number": 4
    },
    {
     "cell_type": "code",
     "collapsed": false,
     "input": [
      "\n",
      "Location = 'C:\\Users\\saisree849\\Documents\\GitHub\\Super-Market-Data\\extracted_data_files\\\\apr14.csv'\n",
      "df = pd.read_csv(Location)\n",
      "\n",
      "for record in df['Description']:\n",
      "    lis.append(record)"
     ],
     "language": "python",
     "metadata": {},
     "outputs": [],
     "prompt_number": 5
    },
    {
     "cell_type": "code",
     "collapsed": false,
     "input": [
      "\n",
      "Location = 'C:\\Users\\saisree849\\Documents\\GitHub\\Super-Market-Data\\extracted_data_files\\may14.csv'\n",
      "df = pd.read_csv(Location)\n",
      "\n",
      "for record in df['Description']:\n",
      "    lis.append(record)"
     ],
     "language": "python",
     "metadata": {},
     "outputs": [],
     "prompt_number": 6
    },
    {
     "cell_type": "code",
     "collapsed": false,
     "input": [
      "output = []\n",
      "for x in lis:\n",
      "    if x not in output:\n",
      "        output.append(x)"
     ],
     "language": "python",
     "metadata": {},
     "outputs": [],
     "prompt_number": 7
    },
    {
     "cell_type": "code",
     "collapsed": false,
     "input": [
      "new_file = open(\"C:\\Users\\saisree849\\Desktop\\list.txt\", \"a\")"
     ],
     "language": "python",
     "metadata": {},
     "outputs": [],
     "prompt_number": 8
    },
    {
     "cell_type": "code",
     "collapsed": false,
     "input": [
      "for item in output:\n",
      "  new_file.write(\"%s\\n\" % item)"
     ],
     "language": "python",
     "metadata": {},
     "outputs": [],
     "prompt_number": 9
    },
    {
     "cell_type": "code",
     "collapsed": false,
     "input": [
      "new_file.close()"
     ],
     "language": "python",
     "metadata": {},
     "outputs": [],
     "prompt_number": 10
    }
   ],
   "metadata": {}
  }
 ]
}