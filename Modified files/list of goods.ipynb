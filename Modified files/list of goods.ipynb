{
 "metadata": {
  "name": "",
  "signature": "sha256:9476da7c171bed5b2a32be27e0b63407370ee7dca16b3e3e3ea6aee3eaff0fc1"
 },
 "nbformat": 3,
 "nbformat_minor": 0,
 "worksheets": [
  {
   "cells": [
    {
     "cell_type": "code",
     "collapsed": false,
     "input": [
      "from pandas import DataFrame, read_csv\n",
      "import pandas as pd\n",
      "import numpy as np\n",
      "\n",
      "\n",
      "Location = 'C:\\Users\\saisree849\\Documents\\GitHub\\Super-Market-Data\\extracted_data_files\\jan14.csv'\n",
      "df = pd.read_csv(Location)\n",
      "lis = []\n",
      "#lis.append(\"Description\")"
     ],
     "language": "python",
     "metadata": {},
     "outputs": [],
     "prompt_number": 22
    },
    {
     "cell_type": "code",
     "collapsed": false,
     "input": [
      "for record in df['Description']:\n",
      "    lis.append(record)"
     ],
     "language": "python",
     "metadata": {},
     "outputs": [],
     "prompt_number": 23
    },
    {
     "cell_type": "code",
     "collapsed": false,
     "input": [
      "\n",
      "Location = 'C:\\Users\\saisree849\\Documents\\GitHub\\Super-Market-Data\\extracted_data_files\\\\feb14.csv'\n",
      "df = pd.read_csv(Location)\n",
      "\n",
      "for record in df['Description']:\n",
      "    lis.append(record)"
     ],
     "language": "python",
     "metadata": {},
     "outputs": [],
     "prompt_number": 24
    },
    {
     "cell_type": "code",
     "collapsed": false,
     "input": [
      "\n",
      "Location = 'C:\\Users\\saisree849\\Documents\\GitHub\\Super-Market-Data\\extracted_data_files\\mar14.csv'\n",
      "df = pd.read_csv(Location)\n",
      "\n",
      "for record in df['Description']:\n",
      "    lis.append(record)"
     ],
     "language": "python",
     "metadata": {},
     "outputs": [],
     "prompt_number": 25
    },
    {
     "cell_type": "code",
     "collapsed": false,
     "input": [
      "\n",
      "Location = 'C:\\Users\\saisree849\\Documents\\GitHub\\Super-Market-Data\\extracted_data_files\\\\apr14.csv'\n",
      "df = pd.read_csv(Location)\n",
      "\n",
      "for record in df['Description']:\n",
      "    lis.append(record)"
     ],
     "language": "python",
     "metadata": {},
     "outputs": [],
     "prompt_number": 26
    },
    {
     "cell_type": "code",
     "collapsed": false,
     "input": [
      "\n",
      "Location = 'C:\\Users\\saisree849\\Documents\\GitHub\\Super-Market-Data\\extracted_data_files\\may14.csv'\n",
      "df = pd.read_csv(Location)\n",
      "\n",
      "for record in df['Description']:\n",
      "    lis.append(record)"
     ],
     "language": "python",
     "metadata": {},
     "outputs": [],
     "prompt_number": 27
    },
    {
     "cell_type": "code",
     "collapsed": false,
     "input": [
      "output = []\n",
      "for x in lis:\n",
      "    if x not in output:\n",
      "        output.append(x)\n",
      "        \n",
      "output = sorted(output)\n",
      "output.insert(0, 'Description')"
     ],
     "language": "python",
     "metadata": {},
     "outputs": [],
     "prompt_number": 28
    },
    {
     "cell_type": "code",
     "collapsed": false,
     "input": [
      "new_file = open(\"C:\\Users\\saisree849\\Desktop\\list.txt\", \"a\")"
     ],
     "language": "python",
     "metadata": {},
     "outputs": [],
     "prompt_number": 29
    },
    {
     "cell_type": "code",
     "collapsed": false,
     "input": [
      "for item in output:\n",
      "  new_file.write(\"%s\\n\" % item)"
     ],
     "language": "python",
     "metadata": {},
     "outputs": [],
     "prompt_number": 30
    },
    {
     "cell_type": "code",
     "collapsed": false,
     "input": [
      "new_file.close()"
     ],
     "language": "python",
     "metadata": {},
     "outputs": [],
     "prompt_number": 31
    },
    {
     "cell_type": "code",
     "collapsed": false,
     "input": [],
     "language": "python",
     "metadata": {},
     "outputs": []
    }
   ],
   "metadata": {}
  }
 ]
}