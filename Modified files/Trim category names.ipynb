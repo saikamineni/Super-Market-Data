{
 "metadata": {
  "name": "",
  "signature": "sha256:6f21f23e2b60c5ea0c3d787d3a869a82f388587d31634f8bf5ad18c6f0b32c6d"
 },
 "nbformat": 3,
 "nbformat_minor": 0,
 "worksheets": [
  {
   "cells": [
    {
     "cell_type": "code",
     "collapsed": false,
     "input": [
      "from pandas import DataFrame, read_csv\n",
      "import pandas as pd\n",
      "import numpy as np\n",
      "import re\n",
      "\n",
      "Location = 'C:\\Users\\saisree849\\Desktop\\catlist.txt'\n",
      "df = pd.read_csv(Location)\n"
     ],
     "language": "python",
     "metadata": {},
     "outputs": [
      {
       "output_type": "stream",
       "stream": "stderr",
       "text": [
        "C:\\Users\\saisree849\\AppData\\Local\\Enthought\\Canopy\\User\\lib\\site-packages\\pytz\\__init__.py:29: UserWarning: Module IPython was already imported from C:\\Users\\saisree849\\AppData\\Local\\Enthought\\Canopy\\App\\appdata\\canopy-1.5.1.2730.win-x86_64\\lib\\site-packages\\IPython\\__init__.pyc, but c:\\users\\saisree849\\appdata\\local\\enthought\\canopy\\user\\lib\\site-packages\\ipython-2.1.0-py2.7.egg is being added to sys.path\n",
        "  from pkg_resources import resource_stream\n"
       ]
      }
     ],
     "prompt_number": 1
    },
    {
     "cell_type": "code",
     "collapsed": false,
     "input": [
      "df['Description'] = df['Description'].map(str.strip)"
     ],
     "language": "python",
     "metadata": {},
     "outputs": [],
     "prompt_number": 2
    },
    {
     "cell_type": "code",
     "collapsed": false,
     "input": [
      "for num1 in range(0 ,max(df.index)+1):\n",
      "    for num2 in range(0 ,max(df.index)+1):\n",
      "        if (re.search(df.loc[num1, 'Description'], df.loc[num2, 'Description'])):\n",
      "            if (re.match(r'(.*)\\s+(.*)', df.loc[num1,'Description'])):\n",
      "                matchobj = re.match(r'(.*)\\s+(.*)', df.loc[num1,'Description'])\n",
      "                df.loc[num1,'Description'] = matchobj.group(1)\n",
      "                break\n",
      "\n",
      "for num1 in range(0 ,max(df.index)+1):\n",
      "    for num2 in range(0 ,max(df.index)+1):\n",
      "        if (re.search(df.loc[num1, 'Description'], df.loc[num2, 'Description'])):\n",
      "            if (re.match(r'(.*)\\s+(.*)', df.loc[num1,'Description'])):\n",
      "                matchobj1 = re.match(r'(.*)\\s+(.*)', df.loc[num1,'Description'])\n",
      "                if not (len(matchobj1.group(1)) == 1):\n",
      "                    df.loc[num1,'Description'] = matchobj1.group(1)\n",
      "                    break\n",
      "                    \n",
      "for num1 in range(0 ,max(df.index)+1):\n",
      "    df.loc[num1,'Description'] = str(df.loc[num1,'Description']+\" \")"
     ],
     "language": "python",
     "metadata": {},
     "outputs": [],
     "prompt_number": 3
    },
    {
     "cell_type": "code",
     "collapsed": false,
     "input": [
      "new_file = \"C:\\Users\\saisree849\\Desktop\\correctedlist.csv\"\n",
      "df.to_csv(new_file,sep = \",\")"
     ],
     "language": "python",
     "metadata": {},
     "outputs": [],
     "prompt_number": 4
    },
    {
     "cell_type": "code",
     "collapsed": false,
     "input": [],
     "language": "python",
     "metadata": {},
     "outputs": []
    }
   ],
   "metadata": {}
  }
 ]
}