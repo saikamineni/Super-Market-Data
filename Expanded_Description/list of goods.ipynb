{
 "metadata": {
  "name": "",
  "signature": "sha256:8c73b9842fa4b2a5220325b94ebb2c8d3dc857dfbcf75168e9b77cbb6f480bb8"
 },
 "nbformat": 3,
 "nbformat_minor": 0,
 "worksheets": [
  {
   "cells": [
    {
     "cell_type": "code",
     "collapsed": false,
     "input": [
      "from pandas import DataFrame, read_csv\n",
      "import pandas as pd\n",
      "import numpy as np\n",
      "\n",
      "\n",
      "Location = 'C:\\Users\\saisree849\\Documents\\GitHub\\Super-Market-Data\\Expanded_Description\\jandesc.csv'\n",
      "df = pd.read_csv(Location)\n",
      "df.columns = ['IndexNo', 'BillNo', 'Date', 'Time', 'Description', 'Quantity', 'Rate', 'Amount']\n",
      "lis = []\n",
      "#lis.append(\"Description\")"
     ],
     "language": "python",
     "metadata": {},
     "outputs": [
      {
       "output_type": "stream",
       "stream": "stderr",
       "text": [
        "C:\\Users\\saisree849\\AppData\\Local\\Enthought\\Canopy\\User\\lib\\site-packages\\pytz\\__init__.py:29: UserWarning: Module IPython was already imported from C:\\Users\\saisree849\\AppData\\Local\\Enthought\\Canopy\\App\\appdata\\canopy-1.5.1.2730.win-x86_64\\lib\\site-packages\\IPython\\__init__.pyc, but c:\\users\\saisree849\\appdata\\local\\enthought\\canopy\\user\\lib\\site-packages\\ipython-2.1.0-py2.7.egg is being added to sys.path\n",
        "  from pkg_resources import resource_stream\n"
       ]
      }
     ],
     "prompt_number": 1
    },
    {
     "cell_type": "code",
     "collapsed": false,
     "input": [
      "for record in df['Description']:\n",
      "    lis.append(record)"
     ],
     "language": "python",
     "metadata": {},
     "outputs": [],
     "prompt_number": 2
    },
    {
     "cell_type": "code",
     "collapsed": false,
     "input": [
      "\n",
      "Location = 'C:\\Users\\saisree849\\Documents\\GitHub\\Super-Market-Data\\Expanded_Description\\\\febdesc.csv'\n",
      "df = pd.read_csv(Location)\n",
      "df.columns = ['IndexNo', 'BillNo', 'Date', 'Time', 'Description', 'Quantity', 'Rate', 'Amount']\n",
      "\n",
      "for record in df['Description']:\n",
      "    lis.append(record)"
     ],
     "language": "python",
     "metadata": {},
     "outputs": [],
     "prompt_number": 3
    },
    {
     "cell_type": "code",
     "collapsed": false,
     "input": [
      "\n",
      "Location = 'C:\\Users\\saisree849\\Documents\\GitHub\\Super-Market-Data\\Expanded_Description\\mardesc.csv'\n",
      "df = pd.read_csv(Location)\n",
      "df.columns = ['IndexNo', 'BillNo', 'Date', 'Time', 'Description', 'Quantity', 'Rate', 'Amount']\n",
      "\n",
      "for record in df['Description']:\n",
      "    lis.append(record)"
     ],
     "language": "python",
     "metadata": {},
     "outputs": [],
     "prompt_number": 4
    },
    {
     "cell_type": "code",
     "collapsed": false,
     "input": [
      "\n",
      "Location = 'C:\\Users\\saisree849\\Documents\\GitHub\\Super-Market-Data\\Expanded_Description\\\\aprdesc.csv'\n",
      "df = pd.read_csv(Location)\n",
      "df.columns = ['IndexNo', 'BillNo', 'Date', 'Time', 'Description', 'Quantity', 'Rate', 'Amount']\n",
      "\n",
      "for record in df['Description']:\n",
      "    lis.append(record)"
     ],
     "language": "python",
     "metadata": {},
     "outputs": [],
     "prompt_number": 5
    },
    {
     "cell_type": "code",
     "collapsed": false,
     "input": [
      "\n",
      "Location = 'C:\\Users\\saisree849\\Documents\\GitHub\\Super-Market-Data\\Expanded_Description\\maydesc.csv'\n",
      "df = pd.read_csv(Location)\n",
      "df.columns = ['IndexNo', 'BillNo', 'Date', 'Time', 'Description', 'Quantity', 'Rate', 'Amount']\n",
      "\n",
      "for record in df['Description']:\n",
      "    lis.append(record)"
     ],
     "language": "python",
     "metadata": {},
     "outputs": [],
     "prompt_number": 6
    },
    {
     "cell_type": "code",
     "collapsed": false,
     "input": [
      "output = []\n",
      "for x in lis:\n",
      "    if x not in output:\n",
      "        output.append(x)\n",
      "        \n",
      "output = sorted(output)\n",
      "output.insert(0, 'Description')"
     ],
     "language": "python",
     "metadata": {},
     "outputs": [],
     "prompt_number": 7
    },
    {
     "cell_type": "code",
     "collapsed": false,
     "input": [
      "new_file = open(\"C:\\Users\\saisree849\\Documents\\GitHub\\Super-Market-Data\\Expanded_Description\\listofdescriptions.txt\", \"a\")"
     ],
     "language": "python",
     "metadata": {},
     "outputs": [],
     "prompt_number": 8
    },
    {
     "cell_type": "code",
     "collapsed": false,
     "input": [
      "for item in output:\n",
      "  new_file.write(\"%s\\n\" % item)"
     ],
     "language": "python",
     "metadata": {},
     "outputs": [],
     "prompt_number": 9
    },
    {
     "cell_type": "code",
     "collapsed": false,
     "input": [
      "new_file.close()"
     ],
     "language": "python",
     "metadata": {},
     "outputs": [],
     "prompt_number": 10
    },
    {
     "cell_type": "code",
     "collapsed": false,
     "input": [],
     "language": "python",
     "metadata": {},
     "outputs": []
    }
   ],
   "metadata": {}
  }
 ]
}