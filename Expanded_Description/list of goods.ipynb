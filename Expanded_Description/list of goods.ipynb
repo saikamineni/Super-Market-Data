{
 "metadata": {
  "name": "",
  "signature": "sha256:f45878d221984532f9b87238efcf8f1219f57027e205ffecd510d67219438564"
 },
 "nbformat": 3,
 "nbformat_minor": 0,
 "worksheets": [
  {
   "cells": [
    {
     "cell_type": "code",
     "collapsed": false,
     "input": [
      "from pandas import DataFrame, read_csv\n",
      "import pandas as pd\n",
      "import numpy as np\n",
      "\n",
      "\n",
      "Location = 'C:\\Users\\saisree849\\Documents\\GitHub\\Super-Market-Data\\Expanded_Description\\jandesc.csv'\n",
      "df = pd.read_csv(Location)\n",
      "df.columns = ['IndexNo', 'BillNo', 'Date', 'Time', 'Description', 'Quantity', 'Rate', 'Amount']\n",
      "lis = []\n",
      "#lis.append(\"Description\")"
     ],
     "language": "python",
     "metadata": {},
     "outputs": [],
     "prompt_number": 3
    },
    {
     "cell_type": "code",
     "collapsed": false,
     "input": [
      "for record in df['Description']:\n",
      "    lis.append(record)"
     ],
     "language": "python",
     "metadata": {},
     "outputs": [],
     "prompt_number": 4
    },
    {
     "cell_type": "code",
     "collapsed": false,
     "input": [
      "\n",
      "Location = 'C:\\Users\\saisree849\\Documents\\GitHub\\Super-Market-Data\\Expanded_Description\\\\febdesc.csv'\n",
      "df = pd.read_csv(Location)\n",
      "df.columns = ['IndexNo', 'BillNo', 'Date', 'Time', 'Description', 'Quantity', 'Rate', 'Amount']\n",
      "\n",
      "for record in df['Description']:\n",
      "    lis.append(record)"
     ],
     "language": "python",
     "metadata": {},
     "outputs": [],
     "prompt_number": 5
    },
    {
     "cell_type": "code",
     "collapsed": false,
     "input": [
      "\n",
      "Location = 'C:\\Users\\saisree849\\Documents\\GitHub\\Super-Market-Data\\Expanded_Description\\mardesc.csv'\n",
      "df = pd.read_csv(Location)\n",
      "df.columns = ['IndexNo', 'BillNo', 'Date', 'Time', 'Description', 'Quantity', 'Rate', 'Amount']\n",
      "\n",
      "for record in df['Description']:\n",
      "    lis.append(record)"
     ],
     "language": "python",
     "metadata": {},
     "outputs": [],
     "prompt_number": 6
    },
    {
     "cell_type": "code",
     "collapsed": false,
     "input": [
      "\n",
      "Location = 'C:\\Users\\saisree849\\Documents\\GitHub\\Super-Market-Data\\Expanded_Description\\\\aprdesc.csv'\n",
      "df = pd.read_csv(Location)\n",
      "df.columns = ['IndexNo', 'BillNo', 'Date', 'Time', 'Description', 'Quantity', 'Rate', 'Amount']\n",
      "\n",
      "for record in df['Description']:\n",
      "    lis.append(record)"
     ],
     "language": "python",
     "metadata": {},
     "outputs": [],
     "prompt_number": 7
    },
    {
     "cell_type": "code",
     "collapsed": false,
     "input": [
      "\n",
      "Location = 'C:\\Users\\saisree849\\Documents\\GitHub\\Super-Market-Data\\Expanded_Description\\maydesc.csv'\n",
      "df = pd.read_csv(Location)\n",
      "df.columns = ['IndexNo', 'BillNo', 'Date', 'Time', 'Description', 'Quantity', 'Rate', 'Amount']\n",
      "\n",
      "for record in df['Description']:\n",
      "    lis.append(record)"
     ],
     "language": "python",
     "metadata": {},
     "outputs": [],
     "prompt_number": 8
    },
    {
     "cell_type": "code",
     "collapsed": false,
     "input": [
      "output = []\n",
      "for x in lis:\n",
      "    if x not in output:\n",
      "        output.append(x)\n",
      "        \n",
      "output = sorted(output)\n",
      "output.insert(0, 'Description')"
     ],
     "language": "python",
     "metadata": {},
     "outputs": [],
     "prompt_number": 9
    },
    {
     "cell_type": "code",
     "collapsed": false,
     "input": [
      "new_file = open(\"C:\\Users\\saisree849\\Documents\\GitHub\\Super-Market-Data\\Expanded_Description\\listofdescriptions.txt\", \"a\")"
     ],
     "language": "python",
     "metadata": {},
     "outputs": [],
     "prompt_number": 10
    },
    {
     "cell_type": "code",
     "collapsed": false,
     "input": [
      "for item in output:\n",
      "  new_file.write(\"%s\\n\" % item)"
     ],
     "language": "python",
     "metadata": {},
     "outputs": [],
     "prompt_number": 11
    },
    {
     "cell_type": "code",
     "collapsed": false,
     "input": [
      "new_file.close()"
     ],
     "language": "python",
     "metadata": {},
     "outputs": [],
     "prompt_number": 12
    },
    {
     "cell_type": "code",
     "collapsed": false,
     "input": [],
     "language": "python",
     "metadata": {},
     "outputs": []
    }
   ],
   "metadata": {}
  }
 ]
}