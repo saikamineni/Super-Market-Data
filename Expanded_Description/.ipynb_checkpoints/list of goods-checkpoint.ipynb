{
 "metadata": {
  "name": "",
  "signature": "sha256:caf465f5374f5c7058e9455cf636a59776568b79971fd55e775badba622f264e"
 },
 "nbformat": 3,
 "nbformat_minor": 0,
 "worksheets": []
}